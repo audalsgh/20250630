{
  "nbformat": 4,
  "nbformat_minor": 0,
  "metadata": {
    "colab": {
      "provenance": [],
      "authorship_tag": "ABX9TyOuwpiqMcmpeks0tBHwVyzv",
      "include_colab_link": true
    },
    "kernelspec": {
      "name": "python3",
      "display_name": "Python 3"
    },
    "language_info": {
      "name": "python"
    }
  },
  "cells": [
    {
      "cell_type": "markdown",
      "metadata": {
        "id": "view-in-github",
        "colab_type": "text"
      },
      "source": [
        "<a href=\"https://colab.research.google.com/github/audalsgh/20250630/blob/main/0630_python_flowchart%26code.ipynb\" target=\"_parent\"><img src=\"https://colab.research.google.com/assets/colab-badge.svg\" alt=\"Open In Colab\"/></a>"
      ]
    },
    {
      "cell_type": "code",
      "execution_count": 3,
      "metadata": {
        "colab": {
          "base_uri": "https://localhost:8080/"
        },
        "id": "ucwvZQmnJvLJ",
        "outputId": "c6a68f80-2ce8-42e9-ce3d-5bc3b82816d8"
      },
      "outputs": [
        {
          "output_type": "stream",
          "name": "stdout",
          "text": [
            "장애물을 감지하여 안전거리 밖인지 판단하는 프로그램\n",
            "장애물이 감지된 센서 : ['forward', 'right']\n"
          ]
        }
      ],
      "source": [
        "sensor_data = {'forward' : 8,\n",
        "               'left' : 15,\n",
        "               'right' : 4 }\n",
        "\n",
        "safe_distance = 10\n",
        "\n",
        "print(\"장애물을 감지하여 안전거리 밖인지 판단하는 프로그램\")\n",
        "obstacle = []\n",
        "\n",
        "for sensor in sensor_data:  #키값을 sensor라고 칭했다.\n",
        "  if sensor_data[sensor] < safe_distance:  #딕셔너리의 키값마다 접근하는 문법.\n",
        "    obstacle.append(sensor)  #리스트 메소드로 추가해나감.\n",
        "\n",
        "print(f\"장애물이 감지된 센서 : {obstacle}\")"
      ]
    },
    {
      "cell_type": "code",
      "source": [
        "sensor_data = {'forward' : 8,\n",
        "               'left' : 15,\n",
        "               'right' : 4 }\n",
        "\n",
        "safe_distance = 10\n",
        "\n",
        "print(\"장애물을 감지하여 안전거리 밖인지 판단하고, 운전방향을 판단하는 프로그램\")\n",
        "obstacle = []\n",
        "\n",
        "for sensor in sensor_data:\n",
        "  if sensor_data[sensor] < safe_distance:\n",
        "    obstacle.append(sensor)\n",
        "\n",
        "print(f\"장애물이 감지된 센서 : {obstacle}\")\n",
        "\n",
        "if len(obstacle) == 0:  #장애물이 아무것도 없는경우 그냥 \"직진\"\n",
        "  print(\"action : 직진\")\n",
        "elif 'forward' not in obstacle:  #정면에 장애물이 없는경우 \"주의해서 직진\"\n",
        "  print(\"action : 주의해서 직진\")\n",
        "elif ('left' not in obstacle) and ('forward' in obstacle):  #정면에 장애물이 있고, 왼쪽엔 없는경우 \"좌회전\"\n",
        "  print(\"acton : 좌회전\")\n",
        "elif ('right' not in obstacle) and ('left' in obstacle) and ('forward' in obstacle):  #정면과 왼쪽에 장애물이 있고, 오른쪽엔 없는경우 \"우회전\"\n",
        "  print(\"action : 우회전\")\n",
        "elif ('right' in obstacle) and ('left' in obstacle) and ('forward' in obstacle):  #모든 방향에 장애물이 있는 경우 \"정지\"\n",
        "  print(\"action : 정지\")"
      ],
      "metadata": {
        "colab": {
          "base_uri": "https://localhost:8080/"
        },
        "id": "9sU4fvlHSQ43",
        "outputId": "7496ab20-5a3f-4ffa-cbf0-9e1e8baaf841"
      },
      "execution_count": 6,
      "outputs": [
        {
          "output_type": "stream",
          "name": "stdout",
          "text": [
            "장애물을 감지하여 안전거리 밖인지 판단하고, 운전방향을 판단하는 프로그램\n",
            "장애물이 감지된 센서 : ['forward', 'right']\n",
            "acton : 좌회전\n"
          ]
        }
      ]
    },
    {
      "cell_type": "code",
      "source": [
        "class AutonomousCar:\n",
        "  def __init__(self,name,position,sensor):\n",
        "    self.name = name\n",
        "    self.position = position\n",
        "    self.sensor = sensor\n",
        "\n",
        "car1 = AutonomousCar('porsche',0,'forward')"
      ],
      "metadata": {
        "id": "z7d88hlBWA7P"
      },
      "execution_count": null,
      "outputs": []
    }
  ]
}