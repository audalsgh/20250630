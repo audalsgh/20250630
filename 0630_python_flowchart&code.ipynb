{
  "nbformat": 4,
  "nbformat_minor": 0,
  "metadata": {
    "colab": {
      "provenance": [],
      "authorship_tag": "ABX9TyOvMyqBoa0W8VVsmHGQV8lt",
      "include_colab_link": true
    },
    "kernelspec": {
      "name": "python3",
      "display_name": "Python 3"
    },
    "language_info": {
      "name": "python"
    }
  },
  "cells": [
    {
      "cell_type": "markdown",
      "metadata": {
        "id": "view-in-github",
        "colab_type": "text"
      },
      "source": [
        "<a href=\"https://colab.research.google.com/github/audalsgh/20250630/blob/main/0630_python_flowchart%26code.ipynb\" target=\"_parent\"><img src=\"https://colab.research.google.com/assets/colab-badge.svg\" alt=\"Open In Colab\"/></a>"
      ]
    },
    {
      "cell_type": "markdown",
      "source": [
        "문제1."
      ],
      "metadata": {
        "id": "VoIsQcArZJC1"
      }
    },
    {
      "cell_type": "code",
      "execution_count": 15,
      "metadata": {
        "colab": {
          "base_uri": "https://localhost:8080/"
        },
        "id": "ucwvZQmnJvLJ",
        "outputId": "fba1717d-b948-44d8-a1f8-e71dafe244b8"
      },
      "outputs": [
        {
          "output_type": "stream",
          "name": "stdout",
          "text": [
            "장애물을 감지하여 안전거리 밖인지 판단하는 프로그램\n",
            "장애물이 감지된 센서 : ['forward', 'right']\n"
          ]
        }
      ],
      "source": [
        "sensor_data = {'forward' : 8,\n",
        "               'left' : 15,\n",
        "               'right' : 4 }\n",
        "\n",
        "safe_distance = 10\n",
        "\n",
        "print(\"장애물을 감지하여 안전거리 밖인지 판단하는 프로그램\")\n",
        "obstacle = []\n",
        "\n",
        "for sensor in sensor_data:  #키값을 sensor라고 칭했다.\n",
        "  if sensor_data[sensor] < safe_distance:  #딕셔너리의 키값마다 접근하는 문법.\n",
        "    obstacle.append(sensor)  #리스트 메소드로 추가해나감.\n",
        "\n",
        "print(f\"장애물이 감지된 센서 : {obstacle}\")"
      ]
    },
    {
      "cell_type": "markdown",
      "source": [
        "문제2."
      ],
      "metadata": {
        "id": "7tIKjpgSZK8r"
      }
    },
    {
      "cell_type": "code",
      "source": [
        "sensor_data = {'forward' : 8,\n",
        "               'left' : 15,\n",
        "               'right' : 4 }\n",
        "\n",
        "safe_distance = 10\n",
        "\n",
        "print(\"장애물을 감지하여 안전거리 밖인지 판단하고, 운전방향을 판단하는 프로그램\")\n",
        "obstacle = []\n",
        "\n",
        "for sensor in sensor_data:\n",
        "  if sensor_data[sensor] < safe_distance:\n",
        "    obstacle.append(sensor)\n",
        "\n",
        "print(f\"장애물이 감지된 센서 : {obstacle}\")\n",
        "\n",
        "if len(obstacle) == 0:  #장애물이 아무것도 없는경우 그냥 \"직진\"\n",
        "  print(\"action : 직진\")\n",
        "elif 'forward' not in obstacle:  #정면에 장애물이 없는경우 \"주의해서 직진\"\n",
        "  print(\"action : 주의해서 직진\")\n",
        "elif ('left' not in obstacle) and ('forward' in obstacle):  #정면에 장애물이 있고, 왼쪽엔 없는경우 \"좌회전\"\n",
        "  print(\"acton : 좌회전\")\n",
        "elif ('right' not in obstacle) and ('left' in obstacle) and ('forward' in obstacle):  #정면과 왼쪽에 장애물이 있고, 오른쪽엔 없는경우 \"우회전\"\n",
        "  print(\"action : 우회전\")\n",
        "elif ('right' in obstacle) and ('left' in obstacle) and ('forward' in obstacle):  #모든 방향에 장애물이 있는 경우 \"정지\"\n",
        "  print(\"action : 정지\")"
      ],
      "metadata": {
        "colab": {
          "base_uri": "https://localhost:8080/"
        },
        "id": "9sU4fvlHSQ43",
        "outputId": "1a3e1807-76de-4fc7-ff9b-405157097a0c"
      },
      "execution_count": 16,
      "outputs": [
        {
          "output_type": "stream",
          "name": "stdout",
          "text": [
            "장애물을 감지하여 안전거리 밖인지 판단하고, 운전방향을 판단하는 프로그램\n",
            "장애물이 감지된 센서 : ['forward', 'right']\n",
            "acton : 좌회전\n"
          ]
        }
      ]
    },
    {
      "cell_type": "markdown",
      "source": [
        "문제3."
      ],
      "metadata": {
        "id": "jX71SZs5ZMSw"
      }
    },
    {
      "cell_type": "code",
      "source": [
        "class AutonomousCar:\n",
        "  def __init__(self,name,position,sensor):\n",
        "    self.name = name\n",
        "    self.position = position\n",
        "    self.sensor = sensor\n",
        "\n",
        "car1 = AutonomousCar('porsche',0,'forward')"
      ],
      "metadata": {
        "id": "z7d88hlBWA7P"
      },
      "execution_count": 17,
      "outputs": []
    },
    {
      "cell_type": "markdown",
      "source": [
        "문제1. 정답 및 교수님이 따라하라고 하신 함수추가, 동작추가."
      ],
      "metadata": {
        "id": "u9WDceTsZGZF"
      }
    },
    {
      "cell_type": "code",
      "source": [
        "# 센서 데이터 (거리 측정값, 단위: 미터)\n",
        "sensors = {\n",
        "    \"앞\": 8.0,\n",
        "    \"왼쪽\": 15.0,\n",
        "    \"오른쪽\": 4.0\n",
        "}\n",
        "# 안전 거리 설정\n",
        "safe_distance = 10.0\n",
        "\n",
        "#장애물 감지 함수 정의, 센서 데이터와 안전거리가 변해도 동작하도록 했다.\n",
        "def dicision(sensors,safe_distance):\n",
        "    obstacles = []\n",
        "    for direction, distance in sensors.items():  # .items() 메소드로 딕셔너리를 튜플로 쪼갬.\n",
        "        if distance < safe_distance:\n",
        "            obstacles.append(direction)\n",
        "\n",
        "#동작 정의도 함수로 만들어두자!\n",
        "def action(obstacle):\n",
        "    if len(obstacle) == 0:  #장애물이 아무것도 없는경우 그냥 \"직진\"\n",
        "      print(\"action : 직진\")\n",
        "    elif 'forward' not in obstacle:  #정면에 장애물이 없는경우 \"주의해서 직진\"\n",
        "     print(\"action : 주의해서 직진\")\n",
        "    elif ('left' not in obstacle) and ('forward' in obstacle):  #정면에 장애물이 있고, 왼쪽엔 없는경우 \"좌회전\"\n",
        "      print(\"acton : 좌회전\")\n",
        "    elif ('right' not in obstacle) and ('left' in obstacle) and ('forward' in obstacle):  #정면과 왼쪽에 장애물이 있고, 오른쪽엔 없는경우 \"우회전\"\n",
        "     print(\"action : 우회전\")\n",
        "    elif ('right' in obstacle) and ('left' in obstacle) and ('forward' in obstacle):  #모든 방향에 장애물이 있는 경우 \"정지\"\n",
        "     print(\"action : 정지\")\n",
        "\n",
        "if __name__ == \"__main__\":\n",
        "    print(\":red_car: 자율주행 장애물 감지 시스템\")\n",
        "    print(\"-\" * 30)\n",
        "\n",
        "    dicision(sensors, safe_distance)  # main 밖에서 정의된 함수를 호출하는게 더 나은 코드.\n",
        "    print(f\"\\n:rotating_light: 감지된 장애물: {obstacles}\")\n",
        "    action(obstacle)"
      ],
      "metadata": {
        "colab": {
          "base_uri": "https://localhost:8080/"
        },
        "id": "bu0w_3doY21y",
        "outputId": "e74b1538-31d2-469e-b8a5-dfffb5278c1c"
      },
      "execution_count": 20,
      "outputs": [
        {
          "output_type": "stream",
          "name": "stdout",
          "text": [
            ":red_car: 자율주행 장애물 감지 시스템\n",
            "------------------------------\n",
            "\n",
            ":rotating_light: 감지된 장애물: ['앞', '오른쪽']\n",
            "acton : 좌회전\n"
          ]
        }
      ]
    }
  ]
}